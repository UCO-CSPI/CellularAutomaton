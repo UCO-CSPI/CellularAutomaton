{
 "cells": [
  {
   "cell_type": "code",
   "execution_count": 1,
   "metadata": {
    "collapsed": false
   },
   "outputs": [],
   "source": [
    "from CellularAutomaton import *\n",
    "from IPython.display import display\n",
    "import inspect\n",
    "from math import *\n",
    "%matplotlib inline\n",
    "import matplotlib\n",
    "from random import random\n",
    "from matplotlib import pyplot as plt\n",
    "from matplotlib import animation\n",
    "matplotlib.rc('animation', html='html5')\n",
    "goldenratio=1/2*(1+sqrt(5))\n",
    "fsx=7\n",
    "fsy=fsx/goldenratio\n",
    "def InfoDocString(function):\n",
    "    \"\"\"Function to return function definition and document string.\"\"\"\n",
    "    \n",
    "    code = inspect.getsource(function)\n",
    "    docstring = inspect.getdoc(function)\n",
    "    return code[0:code.find(':')+1].lstrip() +'\\n' + docstring"
   ]
  },
  {
   "cell_type": "code",
   "execution_count": 8,
   "metadata": {
    "collapsed": false
   },
   "outputs": [],
   "source": [
    "class firegrid(CAGrid):\n",
    "    def SetValue(self):\n",
    "        print('in set value')\n",
    "        for y in range(rows):\n",
    "            for x in range(columns):\n",
    "                if self['Burning'][y][x]:\n",
    "                    self['Value'][y][x]=(1,0,0)\n",
    "                elif self['Tree'][y][x]:\n",
    "                    self['Value'][y][x]=(0,1,0)\n",
    "                else:\n",
    "                    self['Value'][y][x]=(0,0,1)\n",
    "    def Update(self):\n",
    "        numpy.place(self.cond,self.TrueArray,False) #initialize condition with false values\n",
    "        for n in self.Neighbors:\n",
    "            numpy.place(self.cond, n['Burning'],True) #if neighbor is burning, condition =true (will use later)\n",
    "        \n",
    "        #if cell is burning, set cell to empty on next iteration\n",
    "        numpy.place(self['Empty'],self['Burning'],True)\n",
    "        numpy.place(self['Burning'],self['Burning'],False) \n",
    "        numpy.place(self['Tree'],self['Empty'],False) #Could have used 'Tree', 'Burning'\n",
    "        \n",
    "        numpy.place(self['Burning'],self.cond, True) #if neighbor burning and tree set cell to burning on next iteration\n",
    "        numpy.place(self['Burning'], self['Empty'],False) #if not a tree, will not burn in next iteration\n",
    "        self.SetValue()\n",
    "        self.SetBoundary()"
   ]
  },
  {
   "cell_type": "code",
   "execution_count": 9,
   "metadata": {
    "collapsed": true
   },
   "outputs": [],
   "source": [
    "def init(grid, rows, columns, probtree, probburning):\n",
    "        for y in range(rows):\n",
    "            for x in range(columns):\n",
    "                #grid['ProbImmune'][y][x]  = random() * 4\n",
    "                if random() < probtree:\n",
    "                    MyGrid['Empty'][y][x]   = False\n",
    "                    MyGrid['Tree'][y][x]    = True\n",
    "                    MyGrid['Burning'][y][x] = random() < probburning\n",
    "                else:\n",
    "                    MyGrid['Empty'][y][x]   = True\n",
    "                    MyGrid['Tree'][y][x]    = False\n",
    "                    MyGrid['Burning'][y][x] = False\n",
    "            grid.SetValue()\n",
    "            grid.SetBoundary()"
   ]
  },
  {
   "cell_type": "code",
   "execution_count": 10,
   "metadata": {
    "collapsed": false
   },
   "outputs": [],
   "source": [
    "MyDtype = numpy.dtype([('Value','f', (3,)),('Empty',bool),('Tree',bool),('Burning',bool)])\n",
    "\n",
    "#def setstates(grid, rows, columns, states):\n",
    " #   print('in set states')\n",
    "    #i=0\n",
    "    #for y in range(rows):\n",
    "    #    for x in range(columns):\n",
    "     #       grid[\"Empty\"][y][x]=states[i]\n",
    "            #i = i + 1\n",
    "    #i=0\n",
    "    #for y in range(rows):\n",
    "     #   for x in range(columns):\n",
    "      #      grid[\"Tree\"][y][x]=states[i]\n",
    "       #     i = i + 1\n",
    "    #i=0\n",
    "    #for y in range(rows):\n",
    "     #   for x in range(columns):\n",
    "      #      grid[\"Burning\"][y][x]=states[i]\n",
    "       #     i = i + 1 \n",
    "    #grid.SetValue()\n",
    "    #grid.SetBoundary()"
   ]
  },
  {
   "cell_type": "code",
   "execution_count": 11,
   "metadata": {
    "collapsed": true
   },
   "outputs": [],
   "source": [
    "#print(numpy.place.__doc__)"
   ]
  },
  {
   "cell_type": "code",
   "execution_count": 12,
   "metadata": {
    "collapsed": false
   },
   "outputs": [
    {
     "data": {
      "image/png": "[encoded data removed]",
      "text/plain": [
       "<matplotlib.figure.Figure at 0x1c88106ff28>"
      ]
     },
     "metadata": {},
     "output_type": "display_data"
    }
   ],
   "source": [
    "MyFigure, MyAxes = plt.subplots(1,1,figsize=(fsx,fsy))"
   ]
  },
  {
   "cell_type": "code",
   "execution_count": 28,
   "metadata": {
    "collapsed": false
   },
   "outputs": [
    {
     "name": "stdout",
     "output_type": "stream",
     "text": [
      "in set value\nin set value\nin set value\n"
     ]
    }
   ],
   "source": [
    "rows = 3\n",
    "columns = 3\n",
    "MyGrid=firegrid((rows,columns),MyDtype)\n",
    "#setstates(MyGrid, rows, columns, (0,1,0,1,0,1,0,1,0,))\n",
    "#init(MyGrid,rows,columns,.4, .5)\n",
    "init(MyGrid,rows,columns,0.80,0.1)\n",
    "#print('Empty:')\n",
    "#print(MyGrid['Empty'])\n",
    "#print('Tree:')\n",
    "#print(MyGrid['Tree'])\n",
    "#print('Burning:')\n",
    "#print(MyGrid['Burning'])\n",
    "#print(MyGrid['Value'])\n",
    "#MyAxes.imshow(MyGrid['Value'],interpolation='nearest')\n",
    "#MyFigure"
   ]
  },
  {
   "cell_type": "code",
   "execution_count": 22,
   "metadata": {
    "collapsed": false
   },
   "outputs": [
    {
     "data": {
      "image/png": "[encoded data removed]",
      "text/plain": [
       "<matplotlib.figure.Figure at 0x1c88106ff28>"
      ]
     },
     "metadata": {},
     "output_type": "display_data"
    }
   ],
   "source": [
    "MyAxes.imshow(MyGrid['Value'],interpolation='nearest')\n",
    "MyFigure"
   ]
  },
  {
   "cell_type": "code",
   "execution_count": 27,
   "metadata": {},
   "outputs": [
    {
     "name": "stdout",
     "output_type": "stream",
     "text": [
      "in set value\n"
     ]
    }
   ],
   "source": [
    "MyGrid.Update()\n",
    "#print('Empty:')\n",
    "#print(MyGrid['Empty'])\n",
    "#print('Tree:')\n",
    "#print(MyGrid['Tree'])\n",
    "#print('Burning:')\n",
    "#print(MyGrid['Burning'])"
   ]
  },
  {
   "cell_type": "code",
   "execution_count": 24,
   "metadata": {},
   "outputs": [
    {
     "data": {
      "image/png": "[encoded data removed]",
      "text/plain": [
       "<matplotlib.figure.Figure at 0x1c88106ff28>"
      ]
     },
     "metadata": {},
     "output_type": "display_data"
    }
   ],
   "source": [
    "MyAxes.imshow(MyGrid['Value'],interpolation='nearest')\n",
    "MyFigure"
   ]
  },
  {
   "cell_type": "code",
   "execution_count": 26,
   "metadata": {
    "collapsed": false
   },
   "outputs": [
    {
     "name": "stdout",
     "output_type": "stream",
     "text": [
      "in set value\n"
     ]
    },
    {
     "data": {
      "image/png": "[encoded data removed]",
      "text/plain": [
       "<matplotlib.figure.Figure at 0x1c88106ff28>"
      ]
     },
     "metadata": {},
     "output_type": "display_data"
    }
   ],
   "source": [
    "MyGrid.Update()\n",
    "MyAxes.imshow(MyGrid['Value'],interpolation='nearest')\n",
    "MyFigure"
   ]
  },
  {
   "cell_type": "code",
   "execution_count": 36,
   "metadata": {},
   "outputs": [],
   "source": [
    "def uf():\n",
    "    MyGrid.Update()\n",
    "    MyAxes.matshow(MyGrid['Value'])\n",
    "    MyFigure"
   ]
  },
  {
   "cell_type": "code",
   "execution_count": null,
   "outputs": [],
   "source": [
    ""
   ]
  },
  {
   "cell_type": "code",
   "execution_count": 31,
   "metadata": {
    "collapsed": true
   },
   "outputs": [
    {
     "name": "stdout",
     "output_type": "stream",
     "text": [
      "in set value\nin set value\nin set value\nin set value\nin set value\nin set value\nin set value\nin set value\nin set value\nin set value\nin set value\nin set value\nin set value\nin set value\nin set value\nin set value\nin set value\nin set value\nin set value\nin set value\nin set value\nin set value\n"
     ]
    },
    {
     "name": "stdout",
     "output_type": "stream",
     "text": [
      "in set value\nin set value\nin set value\n"
     ]
    },
    {
     "data": {
      "text/plain": [
       "<matplotlib.image.AxesImage at 0x1c8814a4cc0>"
      ]
     },
     "execution_count": 31,
     "metadata": {},
     "output_type": "execute_result"
    },
    {
     "data": {
      "image/png": "[encoded data removed]",
      "text/plain": [
       "<matplotlib.figure.Figure at 0x1c8814a4d68>"
      ]
     },
     "metadata": {},
     "output_type": "display_data"
    }
   ],
   "source": [
    "rows = 25\n",
    "columns = 50\n",
    "MyGrid=firegrid((rows,columns),MyDtype)  #initilized with whatever random memory was at the location.\n",
    "init(MyGrid,rows,columns,probtree=0.75, probburning=0.01)\n",
    "#SmallGrid01=FireGridCopy(MyGrid)\n",
    "MyFigure, MyAxes = plt.subplots()\n",
    "MyAxes.imshow(MyGrid['Value'],interpolation='nearest')"
   ]
  },
  {
   "cell_type": "code",
   "execution_count": 32,
   "metadata": {
    "collapsed": true
   },
   "outputs": [
    {
     "name": "stdout",
     "output_type": "stream",
     "text": [
      "The animation will be 2.5 seconds long.\n"
     ]
    }
   ],
   "source": [
    "AnimationFrames = 50  #total number of frames in animation.\n",
    "DelayBetweenFrames = 50 #in msec (20 gives 50 fps) (33.3 gives 30 fps)\n",
    "AnimationTime = AnimationFrames * DelayBetweenFrames/1000\n",
    "print (\"The animation will be {:.1f} seconds long.\".format(AnimationTime))"
   ]
  },
  {
   "cell_type": "code",
   "execution_count": 35,
   "metadata": {},
   "outputs": [
    {
     "ename": "TypeError",
     "evalue": "'int' object is not iterable",
     "traceback": [
      "\u001b[0;31m---------------------------------------------------------------------------\u001b[0m",
      "\u001b[0;31mTypeError\u001b[0m                                 Traceback (most recent call last)",
      "\u001b[0;32mC:\\Users\\baldy\\Anaconda3\\lib\\site-packages\\IPython\\core\\formatters.py\u001b[0m in \u001b[0;36m__call__\u001b[0;34m(self, obj)\u001b[0m\n\u001b[1;32m    309\u001b[0m             \u001b[0mmethod\u001b[0m \u001b[1;33m=\u001b[0m \u001b[0mget_real_method\u001b[0m\u001b[1;33m(\u001b[0m\u001b[0mobj\u001b[0m\u001b[1;33m,\u001b[0m \u001b[0mself\u001b[0m\u001b[1;33m.\u001b[0m\u001b[0mprint_method\u001b[0m\u001b[1;33m)\u001b[0m\u001b[1;33m\u001b[0m\u001b[0m\n\u001b[1;32m    310\u001b[0m             \u001b[1;32mif\u001b[0m \u001b[0mmethod\u001b[0m \u001b[1;32mis\u001b[0m \u001b[1;32mnot\u001b[0m \u001b[1;32mNone\u001b[0m\u001b[1;33m:\u001b[0m\u001b[1;33m\u001b[0m\u001b[0m\n\u001b[0;32m--> 311\u001b[0;31m                 \u001b[1;32mreturn\u001b[0m \u001b[0mmethod\u001b[0m\u001b[1;33m(\u001b[0m\u001b[1;33m)\u001b[0m\u001b[1;33m\u001b[0m\u001b[0m\n\u001b[0m\u001b[1;32m    312\u001b[0m             \u001b[1;32mreturn\u001b[0m \u001b[1;32mNone\u001b[0m\u001b[1;33m\u001b[0m\u001b[0m\n\u001b[1;32m    313\u001b[0m         \u001b[1;32melse\u001b[0m\u001b[1;33m:\u001b[0m\u001b[1;33m\u001b[0m\u001b[0m\n",
      "\u001b[0;32mC:\\Users\\baldy\\Anaconda3\\lib\\site-packages\\matplotlib\\animation.py\u001b[0m in \u001b[0;36m_repr_html_\u001b[0;34m(self)\u001b[0m\n\u001b[1;32m    979\u001b[0m         \u001b[0mfmt\u001b[0m \u001b[1;33m=\u001b[0m \u001b[0mrcParams\u001b[0m\u001b[1;33m[\u001b[0m\u001b[1;34m'animation.html'\u001b[0m\u001b[1;33m]\u001b[0m\u001b[1;33m\u001b[0m\u001b[0m\n\u001b[1;32m    980\u001b[0m         \u001b[1;32mif\u001b[0m \u001b[0mfmt\u001b[0m \u001b[1;33m==\u001b[0m \u001b[1;34m'html5'\u001b[0m\u001b[1;33m:\u001b[0m\u001b[1;33m\u001b[0m\u001b[0m\n\u001b[0;32m--> 981\u001b[0;31m             \u001b[1;32mreturn\u001b[0m \u001b[0mself\u001b[0m\u001b[1;33m.\u001b[0m\u001b[0mto_html5_video\u001b[0m\u001b[1;33m(\u001b[0m\u001b[1;33m)\u001b[0m\u001b[1;33m\u001b[0m\u001b[0m\n\u001b[0m\u001b[1;32m    982\u001b[0m \u001b[1;33m\u001b[0m\u001b[0m\n\u001b[1;32m    983\u001b[0m \u001b[1;33m\u001b[0m\u001b[0m\n",
      "\u001b[0;32mC:\\Users\\baldy\\Anaconda3\\lib\\site-packages\\matplotlib\\animation.py\u001b[0m in \u001b[0;36mto_html5_video\u001b[0;34m(self)\u001b[0m\n\u001b[1;32m    953\u001b[0m                                 \u001b[0mbitrate\u001b[0m\u001b[1;33m=\u001b[0m\u001b[0mrcParams\u001b[0m\u001b[1;33m[\u001b[0m\u001b[1;34m'animation.bitrate'\u001b[0m\u001b[1;33m]\u001b[0m\u001b[1;33m,\u001b[0m\u001b[1;33m\u001b[0m\u001b[0m\n\u001b[1;32m    954\u001b[0m                                 fps=1000. / self._interval)\n\u001b[0;32m--> 955\u001b[0;31m                 \u001b[0mself\u001b[0m\u001b[1;33m.\u001b[0m\u001b[0msave\u001b[0m\u001b[1;33m(\u001b[0m\u001b[0mf\u001b[0m\u001b[1;33m.\u001b[0m\u001b[0mname\u001b[0m\u001b[1;33m,\u001b[0m \u001b[0mwriter\u001b[0m\u001b[1;33m=\u001b[0m\u001b[0mwriter\u001b[0m\u001b[1;33m)\u001b[0m\u001b[1;33m\u001b[0m\u001b[0m\n\u001b[0m\u001b[1;32m    956\u001b[0m \u001b[1;33m\u001b[0m\u001b[0m\n\u001b[1;32m    957\u001b[0m             \u001b[1;31m# Now open and base64 encode\u001b[0m\u001b[1;33m\u001b[0m\u001b[1;33m\u001b[0m\u001b[0m\n",
      "\u001b[0;32mC:\\Users\\baldy\\Anaconda3\\lib\\site-packages\\matplotlib\\animation.py\u001b[0m in \u001b[0;36msave\u001b[0;34m(self, filename, writer, fps, dpi, codec, bitrate, extra_args, metadata, extra_anim, savefig_kwargs)\u001b[0m\n\u001b[1;32m    802\u001b[0m             \u001b[1;32mfor\u001b[0m \u001b[0manim\u001b[0m \u001b[1;32min\u001b[0m \u001b[0mall_anim\u001b[0m\u001b[1;33m:\u001b[0m\u001b[1;33m\u001b[0m\u001b[0m\n\u001b[1;32m    803\u001b[0m                 \u001b[1;31m# Clear the initial frame\u001b[0m\u001b[1;33m\u001b[0m\u001b[1;33m\u001b[0m\u001b[0m\n\u001b[0;32m--> 804\u001b[0;31m                 \u001b[0manim\u001b[0m\u001b[1;33m.\u001b[0m\u001b[0m_init_draw\u001b[0m\u001b[1;33m(\u001b[0m\u001b[1;33m)\u001b[0m\u001b[1;33m\u001b[0m\u001b[0m\n\u001b[0m\u001b[1;32m    805\u001b[0m             for data in zip(*[a.new_saved_frame_seq()\n\u001b[1;32m    806\u001b[0m                               for a in all_anim]):\n",
      "\u001b[0;32mC:\\Users\\baldy\\Anaconda3\\lib\\site-packages\\matplotlib\\animation.py\u001b[0m in \u001b[0;36m_init_draw\u001b[0;34m(self)\u001b[0m\n\u001b[1;32m   1191\u001b[0m         \u001b[1;31m# artists.\u001b[0m\u001b[1;33m\u001b[0m\u001b[1;33m\u001b[0m\u001b[0m\n\u001b[1;32m   1192\u001b[0m         \u001b[1;32mif\u001b[0m \u001b[0mself\u001b[0m\u001b[1;33m.\u001b[0m\u001b[0m_init_func\u001b[0m \u001b[1;32mis\u001b[0m \u001b[1;32mNone\u001b[0m\u001b[1;33m:\u001b[0m\u001b[1;33m\u001b[0m\u001b[0m\n\u001b[0;32m-> 1193\u001b[0;31m             \u001b[0mself\u001b[0m\u001b[1;33m.\u001b[0m\u001b[0m_draw_frame\u001b[0m\u001b[1;33m(\u001b[0m\u001b[0mnext\u001b[0m\u001b[1;33m(\u001b[0m\u001b[0mself\u001b[0m\u001b[1;33m.\u001b[0m\u001b[0mnew_frame_seq\u001b[0m\u001b[1;33m(\u001b[0m\u001b[1;33m)\u001b[0m\u001b[1;33m)\u001b[0m\u001b[1;33m)\u001b[0m\u001b[1;33m\u001b[0m\u001b[0m\n\u001b[0m\u001b[1;32m   1194\u001b[0m \u001b[1;33m\u001b[0m\u001b[0m\n\u001b[1;32m   1195\u001b[0m         \u001b[1;32melse\u001b[0m\u001b[1;33m:\u001b[0m\u001b[1;33m\u001b[0m\u001b[0m\n",
      "\u001b[0;32mC:\\Users\\baldy\\Anaconda3\\lib\\site-packages\\matplotlib\\animation.py\u001b[0m in \u001b[0;36m_draw_frame\u001b[0;34m(self, framedata)\u001b[0m\n\u001b[1;32m   1210\u001b[0m         \u001b[1;31m# Call the func with framedata and args. If blitting is desired,\u001b[0m\u001b[1;33m\u001b[0m\u001b[1;33m\u001b[0m\u001b[0m\n\u001b[1;32m   1211\u001b[0m         \u001b[1;31m# func needs to return a sequence of any artists that were modified.\u001b[0m\u001b[1;33m\u001b[0m\u001b[1;33m\u001b[0m\u001b[0m\n\u001b[0;32m-> 1212\u001b[0;31m         \u001b[0mself\u001b[0m\u001b[1;33m.\u001b[0m\u001b[0m_drawn_artists\u001b[0m \u001b[1;33m=\u001b[0m \u001b[0mself\u001b[0m\u001b[1;33m.\u001b[0m\u001b[0m_func\u001b[0m\u001b[1;33m(\u001b[0m\u001b[0mframedata\u001b[0m\u001b[1;33m,\u001b[0m \u001b[1;33m*\u001b[0m\u001b[0mself\u001b[0m\u001b[1;33m.\u001b[0m\u001b[0m_args\u001b[0m\u001b[1;33m)\u001b[0m\u001b[1;33m\u001b[0m\u001b[0m\n\u001b[0m\u001b[1;32m   1213\u001b[0m         \u001b[1;32mif\u001b[0m \u001b[0mself\u001b[0m\u001b[1;33m.\u001b[0m\u001b[0m_blit\u001b[0m\u001b[1;33m:\u001b[0m\u001b[1;33m\u001b[0m\u001b[0m\n\u001b[1;32m   1214\u001b[0m             \u001b[1;32mfor\u001b[0m \u001b[0ma\u001b[0m \u001b[1;32min\u001b[0m \u001b[0mself\u001b[0m\u001b[1;33m.\u001b[0m\u001b[0m_drawn_artists\u001b[0m\u001b[1;33m:\u001b[0m\u001b[1;33m\u001b[0m\u001b[0m\n",
      "\u001b[0;32mC:\\Users\\baldy\\Documents\\GitHub\\Project\\CellularAutomaton\\CellularAutomaton.py\u001b[0m in \u001b[0;36m__new__\u001b[0;34m(cls, shape, *args, **kwargs)\u001b[0m\n\u001b[1;32m    272\u001b[0m             \u001b[1;31m# del kwargs['buffer']\u001b[0m\u001b[1;33m\u001b[0m\u001b[1;33m\u001b[0m\u001b[0m\n\u001b[1;32m    273\u001b[0m             \u001b[1;31m# print('Buffer values will be used, but not the memory locations')\u001b[0m\u001b[1;33m\u001b[0m\u001b[1;33m\u001b[0m\u001b[0m\n\u001b[0;32m--> 274\u001b[0;31m         \u001b[0mBaseShape\u001b[0m \u001b[1;33m=\u001b[0m \u001b[0mtuple\u001b[0m\u001b[1;33m(\u001b[0m\u001b[1;33m[\u001b[0m\u001b[0md\u001b[0m\u001b[1;33m+\u001b[0m\u001b[1;36m2\u001b[0m \u001b[1;32mfor\u001b[0m \u001b[0md\u001b[0m \u001b[1;32min\u001b[0m \u001b[0mshape\u001b[0m\u001b[1;33m]\u001b[0m\u001b[1;33m)\u001b[0m\u001b[1;33m\u001b[0m\u001b[0m\n\u001b[0m\u001b[1;32m    275\u001b[0m \u001b[1;33m\u001b[0m\u001b[0m\n\u001b[1;32m    276\u001b[0m         \u001b[0mBase\u001b[0m \u001b[1;33m=\u001b[0m \u001b[0mnumpy\u001b[0m\u001b[1;33m.\u001b[0m\u001b[0mndarray\u001b[0m\u001b[1;33m.\u001b[0m\u001b[0m__new__\u001b[0m\u001b[1;33m(\u001b[0m\u001b[0mcls\u001b[0m\u001b[1;33m,\u001b[0m \u001b[0mBaseShape\u001b[0m\u001b[1;33m,\u001b[0m\u001b[1;33m*\u001b[0m\u001b[0margs\u001b[0m\u001b[1;33m,\u001b[0m \u001b[1;33m**\u001b[0m\u001b[0mkwargs\u001b[0m\u001b[1;33m)\u001b[0m\u001b[1;33m\u001b[0m\u001b[0m\n",
      "\u001b[0;31mTypeError\u001b[0m: 'int' object is not iterable"
     ],
     "output_type": "error"
    },
    {
     "data": {
      "text/plain": [
       "<matplotlib.animation.FuncAnimation at 0x1c8814b2518>"
      ]
     },
     "execution_count": 35,
     "metadata": {},
     "output_type": "execute_result"
    }
   ],
   "source": [
    "MyAnimation = animation.FuncAnimation(MyFigure, firegrid,\n",
    "                               frames=AnimationFrames, interval=DelayBetweenFrames, blit=False)\n",
    "MyAnimation"
   ]
  },
  {
   "cell_type": "code",
   "execution_count": null,
   "metadata": {},
   "outputs": [],
   "source": [
    ""
   ]
  }
 ],
 "metadata": {
  "anaconda-cloud": {},
  "kernelspec": {
   "display_name": "Python [conda root]",
   "language": "python",
   "name": "conda-root-py"
  },
  "language_info": {
   "codemirror_mode": {
    "name": "ipython",
    "version": 3.0
   },
   "file_extension": ".py",
   "mimetype": "text/x-python",
   "name": "python",
   "nbconvert_exporter": "python",
   "pygments_lexer": "ipython3",
   "version": "3.5.2"
  }
 },
 "nbformat": 4,
 "nbformat_minor": 0
}