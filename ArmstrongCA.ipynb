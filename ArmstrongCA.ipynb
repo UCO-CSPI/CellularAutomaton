{
 "cells": [
  {
   "cell_type": "code",
   "execution_count": 1,
   "metadata": {
    "collapsed": false
   },
   "outputs": [],
   "source": [
    "from CellularAutomaton import *\n",
    "from IPython.display import display\n",
    "import inspect\n",
    "from math import *\n",
    "%matplotlib inline\n",
    "import matplotlib\n",
    "from random import uniform\n",
    "from matplotlib import pyplot as plt\n",
    "from matplotlib import animation\n",
    "matplotlib.rc('animation', html='html5')\n",
    "goldenratio=1/2*(1+sqrt(5))\n",
    "fsx=7\n",
    "fsy=fsx/goldenratio\n",
    "def InfoDocString(function):\n",
    "    \"\"\"Function to return function definition and document string.\"\"\"\n",
    "    \n",
    "    code = inspect.getsource(function)\n",
    "    docstring = inspect.getdoc(function)\n",
    "    return code[0:code.find(':')+1].lstrip() +'\\n' + docstring"
   ]
  },
  {
   "cell_type": "code",
   "execution_count": 9,
   "metadata": {
    "collapsed": false
   },
   "outputs": [],
   "source": [
    "class firegrid(CAGrid):\n",
    "    def SetValue(self):\n",
    "        print('in set value')\n",
    "        for y in range(rows):\n",
    "            for x in range(columns):\n",
    "                if self['Burning'][y][x]:\n",
    "                    self['Value'][y][x]=(1,0,0)\n",
    "                elif self['Tree'][y][x]:\n",
    "                    self['Value'][y][x]=(0,1,0)\n",
    "                else:\n",
    "                    self['Value'][y][x]=(0,0,1)\n",
    "    def Update(self):\n",
    "        #numpy.place(self.cond,self.TrueArray,False) #initialize condition with false values\n",
    "        #for n in self.Neighbors:\n",
    "         #   numpy.place(self.cond, n['Burning'],True) #if neighbor is burning, condition =true (will use later)\n",
    "        numpy.place(self['Empty'],self['Burning'],True) #if cell is burning, set cell to empty on next iteration\n",
    "        numpy.place(self['Burning'],self['Burning'],False) \n",
    "        numpy.place(self['Tree'],self['Empty'],False)\n",
    "        #numpy.place(self['Burning'],self.cond, True) #if neighbor burning and tree set cell to burning on next iteration\n",
    "        #numpy.place(self.cond, numpy.logical_not(self['Tree']),False) #if not a tree, will not burn in next iteration\n",
    "        self.SetValue()\n",
    "        self.SetBoundary()"
   ]
  },
  {
   "cell_type": "code",
   "execution_count": 10,
   "metadata": {
    "collapsed": true
   },
   "outputs": [],
   "source": [
    "def init(grid, rows, columns, probtree, probburning):\n",
    "        for y in range(rows):\n",
    "            for x in range(columns):\n",
    "                #grid['ProbImmune'][y][x]  = random() * 4\n",
    "                if random() < probtree:\n",
    "                    MyGrid['Tree'][y][x]    = True\n",
    "                    MyGrid['Burning'][y][x] = random() < probburning\n",
    "                else:\n",
    "                    MyGrid['Tree'][y][x]    = False\n",
    "                    MyGrid['Burning'][y][x] = False\n",
    "            grid.SetValue()\n",
    "            grid.SetBoundary()"
   ]
  },
  {
   "cell_type": "code",
   "execution_count": 11,
   "metadata": {
    "collapsed": false
   },
   "outputs": [],
   "source": [
    "MyDtype = numpy.dtype([('Value','f', (3,)),('Empty',bool),('Tree',bool),('Burning',bool)])\n",
    "\n",
    "#def setstates(grid, rows, columns, states):\n",
    " #   print('in set states')\n",
    "    #i=0\n",
    "    #for y in range(rows):\n",
    "    #    for x in range(columns):\n",
    "     #       grid[\"Empty\"][y][x]=states[i]\n",
    "            #i = i + 1\n",
    "    #i=0\n",
    "    #for y in range(rows):\n",
    "     #   for x in range(columns):\n",
    "      #      grid[\"Tree\"][y][x]=states[i]\n",
    "       #     i = i + 1\n",
    "    #i=0\n",
    "    #for y in range(rows):\n",
    "     #   for x in range(columns):\n",
    "      #      grid[\"Burning\"][y][x]=states[i]\n",
    "       #     i = i + 1 \n",
    "    #grid.SetValue()\n",
    "    #grid.SetBoundary()"
   ]
  },
  {
   "cell_type": "code",
   "execution_count": 12,
   "metadata": {
    "collapsed": true
   },
   "outputs": [],
   "source": [
    "#print(numpy.place.__doc__)"
   ]
  },
  {
   "cell_type": "code",
   "execution_count": 13,
   "metadata": {
    "collapsed": false
   },
   "outputs": [
    {
     "data": {
      "image/png": "[encoded data removed]",
      "text/plain": [
       "<matplotlib.figure.Figure at 0x215f6486400>"
      ]
     },
     "metadata": {},
     "output_type": "display_data"
    }
   ],
   "source": [
    "MyFigure, MyAxes = plt.subplots(1,1,figsize=(fsx,fsy))"
   ]
  },
  {
   "cell_type": "code",
   "execution_count": 14,
   "metadata": {
    "collapsed": false
   },
   "outputs": [
    {
     "ename": "NameError",
     "evalue": "name 'random' is not defined",
     "traceback": [
      "\u001b[0;31m---------------------------------------------------------------------------\u001b[0m",
      "\u001b[0;31mNameError\u001b[0m                                 Traceback (most recent call last)",
      "\u001b[0;32m<ipython-input-14-253d1c8b868e>\u001b[0m in \u001b[0;36m<module>\u001b[0;34m()\u001b[0m\n\u001b[1;32m      4\u001b[0m \u001b[1;31m#setstates(MyGrid, rows, columns, (0,1,0,1,0,1,0,1,0,))\u001b[0m\u001b[1;33m\u001b[0m\u001b[1;33m\u001b[0m\u001b[0m\n\u001b[1;32m      5\u001b[0m \u001b[1;31m#init(MyGrid,rows,columns,.4, .5)\u001b[0m\u001b[1;33m\u001b[0m\u001b[1;33m\u001b[0m\u001b[0m\n\u001b[0;32m----> 6\u001b[0;31m \u001b[0minit\u001b[0m\u001b[1;33m(\u001b[0m\u001b[0mMyGrid\u001b[0m\u001b[1;33m,\u001b[0m\u001b[0mrows\u001b[0m\u001b[1;33m,\u001b[0m\u001b[0mcolumns\u001b[0m\u001b[1;33m,\u001b[0m\u001b[1;36m0.80\u001b[0m\u001b[1;33m,\u001b[0m\u001b[1;36m0.25\u001b[0m\u001b[1;33m)\u001b[0m\u001b[1;33m\u001b[0m\u001b[0m\n\u001b[0m\u001b[1;32m      7\u001b[0m \u001b[1;31m#print(MyGrid['Empty'])\u001b[0m\u001b[1;33m\u001b[0m\u001b[1;33m\u001b[0m\u001b[0m\n\u001b[1;32m      8\u001b[0m \u001b[1;31m#print(MyGrid['Tree'])\u001b[0m\u001b[1;33m\u001b[0m\u001b[1;33m\u001b[0m\u001b[0m\n",
      "\u001b[0;32m<ipython-input-10-0bc9184bb3e9>\u001b[0m in \u001b[0;36minit\u001b[0;34m(grid, rows, columns, probtree, probburning)\u001b[0m\n\u001b[1;32m      3\u001b[0m             \u001b[1;32mfor\u001b[0m \u001b[0mx\u001b[0m \u001b[1;32min\u001b[0m \u001b[0mrange\u001b[0m\u001b[1;33m(\u001b[0m\u001b[0mcolumns\u001b[0m\u001b[1;33m)\u001b[0m\u001b[1;33m:\u001b[0m\u001b[1;33m\u001b[0m\u001b[0m\n\u001b[1;32m      4\u001b[0m                 \u001b[1;31m#grid['ProbImmune'][y][x]  = random() * 4\u001b[0m\u001b[1;33m\u001b[0m\u001b[1;33m\u001b[0m\u001b[0m\n\u001b[0;32m----> 5\u001b[0;31m                 \u001b[1;32mif\u001b[0m \u001b[0mrandom\u001b[0m\u001b[1;33m(\u001b[0m\u001b[1;33m)\u001b[0m \u001b[1;33m<\u001b[0m \u001b[0mprobtree\u001b[0m\u001b[1;33m:\u001b[0m\u001b[1;33m\u001b[0m\u001b[0m\n\u001b[0m\u001b[1;32m      6\u001b[0m                     \u001b[0mMyGrid\u001b[0m\u001b[1;33m[\u001b[0m\u001b[1;34m'Tree'\u001b[0m\u001b[1;33m]\u001b[0m\u001b[1;33m[\u001b[0m\u001b[0my\u001b[0m\u001b[1;33m]\u001b[0m\u001b[1;33m[\u001b[0m\u001b[0mx\u001b[0m\u001b[1;33m]\u001b[0m    \u001b[1;33m=\u001b[0m \u001b[1;32mTrue\u001b[0m\u001b[1;33m\u001b[0m\u001b[0m\n\u001b[1;32m      7\u001b[0m                     \u001b[0mMyGrid\u001b[0m\u001b[1;33m[\u001b[0m\u001b[1;34m'Burning'\u001b[0m\u001b[1;33m]\u001b[0m\u001b[1;33m[\u001b[0m\u001b[0my\u001b[0m\u001b[1;33m]\u001b[0m\u001b[1;33m[\u001b[0m\u001b[0mx\u001b[0m\u001b[1;33m]\u001b[0m \u001b[1;33m=\u001b[0m \u001b[0mrandom\u001b[0m\u001b[1;33m(\u001b[0m\u001b[1;33m)\u001b[0m \u001b[1;33m<\u001b[0m \u001b[0mprobburning\u001b[0m\u001b[1;33m\u001b[0m\u001b[0m\n",
      "\u001b[0;31mNameError\u001b[0m: name 'random' is not defined"
     ],
     "output_type": "error"
    }
   ],
   "source": [
    "rows = 3\n",
    "columns = 3\n",
    "MyGrid=firegrid((rows,columns),MyDtype)\n",
    "#setstates(MyGrid, rows, columns, (0,1,0,1,0,1,0,1,0,))\n",
    "#init(MyGrid,rows,columns,.4, .5)\n",
    "init(MyGrid,rows,columns,0.80,0.25)\n",
    "#print(MyGrid['Empty'])\n",
    "#print(MyGrid['Tree'])\n",
    "#print(MyGrid['Burning'])\n",
    "print(MyGrid['Value'])\n",
    "MyAxes.imshow(MyGrid['Value'],interpolation='nearest')\n",
    "MyFigure"
   ]
  },
  {
   "cell_type": "code",
   "execution_count": 17,
   "metadata": {
    "collapsed": false
   },
   "outputs": [
    {
     "name": "stderr",
     "output_type": "stream",
     "text": [
      "C:\\Users\\baldy\\Anaconda3\\lib\\site-packages\\matplotlib\\image.py:238: RuntimeWarning: overflow encountered in multiply\n",
      "  x = (x * 255).astype(np.uint8)\n"
     ]
    },
    {
     "data": {
      "image/png": "[encoded data removed]",
      "text/plain": [
       "<matplotlib.figure.Figure at 0x15ee0113be0>"
      ]
     },
     "metadata": {},
     "output_type": "display_data"
    }
   ],
   "source": [
    "MyAxes.imshow(MyGrid['Value'],interpolation='nearest')\n",
    "MyFigure"
   ]
  },
  {
   "cell_type": "code",
   "execution_count": 7,
   "metadata": {
    "collapsed": false
   },
   "outputs": [
    {
     "name": "stdout",
     "output_type": "stream",
     "text": [
      "in set value\n"
     ]
    },
    {
     "data": {
      "image/png": "[encoded data removed]",
      "text/plain": [
       "<matplotlib.figure.Figure at 0x2320c364630>"
      ]
     },
     "metadata": {},
     "output_type": "display_data"
    }
   ],
   "source": [
    "MyGrid.Update()\n",
    "MyAxes.imshow(MyGrid['Value'],interpolation='nearest')\n",
    "MyFigure"
   ]
  },
  {
   "cell_type": "code",
   "execution_count": null,
   "metadata": {
    "collapsed": true
   },
   "outputs": [],
   "source": [
    ""
   ]
  },
  {
   "cell_type": "code",
   "execution_count": null,
   "metadata": {
    "collapsed": true
   },
   "outputs": [],
   "source": [
    ""
   ]
  }
 ],
 "metadata": {
  "anaconda-cloud": {},
  "kernelspec": {
   "display_name": "Python [conda root]",
   "language": "python",
   "name": "conda-root-py"
  },
  "language_info": {
   "codemirror_mode": {
    "name": "ipython",
    "version": 3.0
   },
   "file_extension": ".py",
   "mimetype": "text/x-python",
   "name": "python",
   "nbconvert_exporter": "python",
   "pygments_lexer": "ipython3",
   "version": "3.5.2"
  }
 },
 "nbformat": 4,
 "nbformat_minor": 0
}